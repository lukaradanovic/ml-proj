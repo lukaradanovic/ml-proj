{
 "cells": [
  {
   "cell_type": "code",
   "execution_count": 1,
   "id": "laughing-playlist",
   "metadata": {},
   "outputs": [],
   "source": [
    "%load_ext autoreload\n",
    "%autoreload 2"
   ]
  },
  {
   "cell_type": "code",
   "execution_count": 1,
   "id": "aerial-nigeria",
   "metadata": {},
   "outputs": [],
   "source": [
    "import os\n",
    "import pandas as pd\n",
    "import numpy as np\n",
    "import utils, irmasTrainUtils, irmasTestUtils\n",
    "from scipy.io.wavfile import read as read_wav\n",
    "from scipy.io.wavfile import write as write_wav\n",
    "import re\n",
    "import shutil\n",
    "import torch\n",
    "from torch.utils.data import DataLoader, TensorDataset\n",
    "import pickle"
   ]
  },
  {
   "cell_type": "code",
   "execution_count": 9,
   "id": "broad-briefing",
   "metadata": {},
   "outputs": [],
   "source": [
    "BATCH_SIZE = 32"
   ]
  },
  {
   "cell_type": "markdown",
   "id": "sonic-circuit",
   "metadata": {},
   "source": [
    "### Data Augmentation"
   ]
  },
  {
   "cell_type": "markdown",
   "id": "reserved-navigator",
   "metadata": {},
   "source": [
    "Parse the IRMAS training data, places them into two directories (\"Preprocessed_Trainset/Train\" and \"Preprocessed_Trainset/Validation\") using a 90-10 split"
   ]
  },
  {
   "cell_type": "code",
   "execution_count": 3,
   "id": "understanding-model",
   "metadata": {},
   "outputs": [
    {
     "name": "stdout",
     "output_type": "stream",
     "text": [
      "Processing directory: 1\n",
      "Processing directory: 2\n",
      "Processing directory: 3\n",
      "Processing directory: 4\n",
      "Processing directory: 5\n",
      "Processing directory: 6\n",
      "Processing directory: 7\n",
      "Processing directory: 8\n",
      "Processing directory: 9\n",
      "Processing directory: 10\n",
      "Processing directory: 11\n",
      "Processing directory: 12\n",
      "Processing directory: 13\n"
     ]
    }
   ],
   "source": [
    "irmasTrainUtils.parse_irmas_trainset(\"Data/IRMAS-TrainingData\", \"Data/Preprocessed_Trainset\")"
   ]
  },
  {
   "cell_type": "markdown",
   "id": "broadband-transsexual",
   "metadata": {},
   "source": [
    "Parse the IRMAS testing data, places them into a single directory"
   ]
  },
  {
   "cell_type": "code",
   "execution_count": 3,
   "id": "interracial-harrison",
   "metadata": {},
   "outputs": [
    {
     "name": "stdout",
     "output_type": "stream",
     "text": [
      "Processing directory: 1\n"
     ]
    }
   ],
   "source": [
    "irmasTestUtils.parse_irmas_testset(\"Data/IRMAS-TestingData\", \"Data/Preprocessed_Testset\")"
   ]
  },
  {
   "cell_type": "markdown",
   "id": "common-permission",
   "metadata": {},
   "source": [
    "### Audio to Image"
   ]
  },
  {
   "cell_type": "markdown",
   "id": "wrong-stage",
   "metadata": {},
   "source": [
    "Loads the training dataset, converts each item into a mel-spectrogram, and saves the output to a Pandas DataFrame. Note that the data has already undergone the 90-10 split. Repeat for both subsets of data"
   ]
  },
  {
   "cell_type": "code",
   "execution_count": 11,
   "id": "perceived-laundry",
   "metadata": {},
   "outputs": [
    {
     "name": "stdout",
     "output_type": "stream",
     "text": [
      "Count:  0\n",
      "Count:  500\n",
      "Count:  1000\n",
      "Count:  1500\n",
      "Count:  2000\n",
      "Count:  2500\n",
      "Count:  3000\n",
      "Count:  3500\n",
      "Count:  4000\n",
      "Count:  4500\n",
      "Count:  5000\n",
      "Count:  5500\n",
      "Count:  6000\n",
      "Count:  6500\n",
      "Count:  7000\n",
      "Count:  7500\n",
      "Count:  8000\n",
      "Count:  8500\n",
      "Count:  9000\n",
      "Count:  9500\n",
      "Count:  10000\n",
      "Count:  10500\n",
      "Count:  11000\n",
      "Count:  11500\n"
     ]
    }
   ],
   "source": [
    "df = irmasTrainUtils.load_train_dataset(\"Data/Preprocessed_Trainset/Train\")"
   ]
  },
  {
   "cell_type": "code",
   "execution_count": 14,
   "id": "dramatic-following",
   "metadata": {},
   "outputs": [],
   "source": [
    "df.to_pickle(\"Data/train.pkl\")"
   ]
  },
  {
   "cell_type": "code",
   "execution_count": 6,
   "id": "treated-binary",
   "metadata": {},
   "outputs": [
    {
     "name": "stdout",
     "output_type": "stream",
     "text": [
      "Count:  0\n",
      "Count:  500\n",
      "Count:  1000\n"
     ]
    }
   ],
   "source": [
    "df2 = irmasTrainUtils.load_train_dataset(\"Data/Preprocessed_Trainset/Validation\")"
   ]
  },
  {
   "cell_type": "code",
   "execution_count": 15,
   "id": "referenced-definition",
   "metadata": {},
   "outputs": [],
   "source": [
    "df2.to_pickle(\"Data/validation.pkl\")"
   ]
  },
  {
   "cell_type": "code",
   "execution_count": 3,
   "id": "attended-coffee",
   "metadata": {},
   "outputs": [
    {
     "name": "stdout",
     "output_type": "stream",
     "text": [
      "Count:  0\n",
      "Count:  500\n",
      "Count:  1000\n",
      "Count:  1500\n",
      "Count:  2000\n",
      "Count:  2500\n"
     ]
    }
   ],
   "source": [
    "df3 = irmasTestUtils.load_test_dataset(\"Data/Preprocessed_Testset\")"
   ]
  },
  {
   "cell_type": "code",
   "execution_count": null,
   "id": "static-indianapolis",
   "metadata": {},
   "outputs": [],
   "source": [
    "df3.data[0].shape"
   ]
  },
  {
   "cell_type": "code",
   "execution_count": 5,
   "id": "durable-disclosure",
   "metadata": {},
   "outputs": [],
   "source": [
    "df3.to_pickle(\"Data/test.pkl\")"
   ]
  },
  {
   "cell_type": "markdown",
   "id": "postal-parking",
   "metadata": {},
   "source": [
    "### Dataframe to DataLoader"
   ]
  },
  {
   "cell_type": "markdown",
   "id": "contemporary-senegal",
   "metadata": {},
   "source": [
    "We wil be using torch, so this section is to transform data to torch dataloader. "
   ]
  },
  {
   "cell_type": "code",
   "execution_count": 14,
   "id": "current-organizer",
   "metadata": {},
   "outputs": [],
   "source": [
    "def get_data_loader(X_data, y_data, batch_size, shuffle):\n",
    "    \"\"\"\n",
    "    Get torch data loader from the DataFrame and Series objects.\n",
    "  \"\"\"\n",
    "    X_tensor = torch.FloatTensor(X_data)\n",
    "    y_tensor = torch.FloatTensor(y_data)\n",
    "    dataset = TensorDataset(X_tensor, y_tensor)\n",
    "    return DataLoader(dataset, batch_size=batch_size, shuffle=shuffle)"
   ]
  },
  {
   "cell_type": "code",
   "execution_count": null,
   "id": "monthly-starter",
   "metadata": {},
   "outputs": [],
   "source": [
    "df_val = pd.read_pickle(\"Data/validation.pkl\")\n",
    "df_val_label  = df_val.label.apply(lambda row: row.flatten())\n",
    "dl_val = get_data_loader(df_val.data, df_val_label, BATCH_SIZE, True)\n",
    "\n",
    "df_train = pd.read_pickle(\"Data/train.pkl\")\n",
    "df_train_label  = df_train.label.apply(lambda row: row.flatten())\n",
    "dl_train = get_data_loader(df_train.data, df_train_label, BATCH_SIZE, True)"
   ]
  },
  {
   "cell_type": "code",
   "execution_count": 15,
   "id": "distributed-beauty",
   "metadata": {},
   "outputs": [],
   "source": [
    "df_test = pd.read_pickle(\"Data/test.pkl\")\n",
    "df_test_label  = df_test.label.apply(lambda row: row.flatten())\n",
    "dl_test = get_data_loader(df_test.data, df_test_label, BATCH_SIZE, True)"
   ]
  },
  {
   "cell_type": "code",
   "execution_count": null,
   "id": "industrial-recruitment",
   "metadata": {},
   "outputs": [],
   "source": [
    "# Write DataLoaders to pickle files\n",
    "output = open('Data/dataLoaderVal.pkl', 'wb')\n",
    "# Pickle dictionary using protocol 0.\n",
    "pickle.dump(dl_val, output)\n",
    "output.close()\n",
    "output = open('Data/dataLoaderTrain.pkl', 'wb')\n",
    "# Pickle dictionary using protocol 0.\n",
    "pickle.dump(dl_train, output)\n",
    "output.close()"
   ]
  },
  {
   "cell_type": "code",
   "execution_count": 18,
   "id": "touched-affairs",
   "metadata": {},
   "outputs": [],
   "source": [
    "# Write DataLoaders to pickle files\n",
    "output = open('Data/dataLoaderTest.pkl', 'wb')\n",
    "# Pickle dictionary using protocol 0.\n",
    "pickle.dump(dl_test, output)\n",
    "output.close()"
   ]
  }
 ],
 "metadata": {
  "kernelspec": {
   "display_name": "Python 3",
   "language": "python",
   "name": "python3"
  },
  "language_info": {
   "codemirror_mode": {
    "name": "ipython",
    "version": 3
   },
   "file_extension": ".py",
   "mimetype": "text/x-python",
   "name": "python",
   "nbconvert_exporter": "python",
   "pygments_lexer": "ipython3",
   "version": "3.8.8"
  }
 },
 "nbformat": 4,
 "nbformat_minor": 5
}
